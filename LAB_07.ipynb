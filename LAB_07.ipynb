{
  "nbformat": 4,
  "nbformat_minor": 0,
  "metadata": {
    "colab": {
      "provenance": []
    },
    "kernelspec": {
      "name": "python3",
      "display_name": "Python 3"
    },
    "language_info": {
      "name": "python"
    }
  },
  "cells": [
    {
      "cell_type": "code",
      "execution_count": null,
      "metadata": {
        "colab": {
          "base_uri": "https://localhost:8080/"
        },
        "id": "zIZGLsJpweD3",
        "outputId": "a75ac5ef-083a-4760-f0a1-bef573ca512f"
      },
      "outputs": [
        {
          "output_type": "stream",
          "name": "stdout",
          "text": [
            "[[ 1  2  3  4]\n",
            " [ 5  6  7  8]\n",
            " [ 9 10 11 12]]\n"
          ]
        }
      ],
      "source": [
        "import numpy as np\n",
        "x=np.array([[1,2,3,4],\n",
        " [5,6,7,8],\n",
        " [9,10,11,12]])\n",
        "print (x)"
      ]
    },
    {
      "cell_type": "code",
      "source": [
        "y=np.array([1,2,3,4,5,6])\n",
        "print(y)"
      ],
      "metadata": {
        "colab": {
          "base_uri": "https://localhost:8080/"
        },
        "id": "JQ3CdLrMyon4",
        "outputId": "4145c23b-2efe-427b-e1bf-7925063632b7"
      },
      "execution_count": null,
      "outputs": [
        {
          "output_type": "stream",
          "name": "stdout",
          "text": [
            "[1 2 3 4 5 6]\n"
          ]
        }
      ]
    },
    {
      "cell_type": "code",
      "source": [
        "print(x[0][2],x[1][1],x[2][1])"
      ],
      "metadata": {
        "colab": {
          "base_uri": "https://localhost:8080/"
        },
        "id": "ftnH_7_JzPqN",
        "outputId": "7bf71036-68f1-4329-dddd-318857bb771d"
      },
      "execution_count": null,
      "outputs": [
        {
          "output_type": "stream",
          "name": "stdout",
          "text": [
            "3 6 10\n"
          ]
        }
      ]
    },
    {
      "cell_type": "code",
      "source": [
        "print(\"first three array\")\n",
        "print(y[0:3])\n",
        "print (\"last three element\")\n",
        "print(y[3:])"
      ],
      "metadata": {
        "colab": {
          "base_uri": "https://localhost:8080/"
        },
        "id": "oPXaE6-ktPhU",
        "outputId": "773d2f52-351c-4c50-d567-44543d956c06"
      },
      "execution_count": null,
      "outputs": [
        {
          "output_type": "stream",
          "name": "stdout",
          "text": [
            "first three array\n",
            "[1 2 3]\n",
            "last three element\n",
            "[4 5 6]\n"
          ]
        }
      ]
    },
    {
      "cell_type": "code",
      "source": [
        "print(\"\\nArray x:\")\n",
        "print(\"Size:\", x.size)\n",
        "print(\"Number of elements:\",x.size)\n",
        "print(\"Number of dimensions:\", x.ndim)\n",
        "print(\"\\nArray y:\")\n",
        "print(\"Size:\", y.size)\n",
        "print(\"Number of elements:\",y.size)\n",
        "print(\"Number of dimensions:\", y.ndim)\n"
      ],
      "metadata": {
        "colab": {
          "base_uri": "https://localhost:8080/"
        },
        "id": "uUmDGFXk6K3a",
        "outputId": "16d2b056-5c8e-4a29-be13-51492a83f729"
      },
      "execution_count": null,
      "outputs": [
        {
          "output_type": "stream",
          "name": "stdout",
          "text": [
            "\n",
            "Array x:\n",
            "Size: 12\n",
            "Number of elements: 12\n",
            "Number of dimensions: 2\n",
            "\n",
            "Array y:\n",
            "Size: 6\n",
            "Number of elements: 6\n",
            "Number of dimensions: 1\n"
          ]
        }
      ]
    },
    {
      "cell_type": "code",
      "source": [
        "x10=x+10\n",
        "print(x10)"
      ],
      "metadata": {
        "colab": {
          "base_uri": "https://localhost:8080/"
        },
        "id": "YZpV_kaf67gY",
        "outputId": "a5e1adb9-4830-46ab-d07a-c0693b27b69e"
      },
      "execution_count": null,
      "outputs": [
        {
          "output_type": "stream",
          "name": "stdout",
          "text": [
            "[[11 12 13 14]\n",
            " [15 16 17 18]\n",
            " [19 20 21 22]]\n"
          ]
        }
      ]
    },
    {
      "cell_type": "code",
      "source": [
        "print(\"\\n Array x:\")\n",
        "print(\"Average\",np.mean(x))\n",
        "print(\"Variance\",np.var(x))\n",
        "print(\"Standard Deviation\",np.std(x))\n",
        "\n",
        "print(\"\\n Array y:\")\n",
        "print(\"Average\",np.mean(y))\n",
        "print(\"Variance\",np.var(y))\n",
        "print(\"Standard Deviation\",np.std(y))"
      ],
      "metadata": {
        "colab": {
          "base_uri": "https://localhost:8080/"
        },
        "id": "Wsa3i3uOBbLm",
        "outputId": "282e802e-84f1-48ae-865a-7d97c2fe7dd4"
      },
      "execution_count": null,
      "outputs": [
        {
          "output_type": "stream",
          "name": "stdout",
          "text": [
            "\n",
            " Array x:\n",
            "Average 6.5\n",
            "Variance 11.916666666666666\n",
            "Standard Deviation 3.452052529534663\n",
            "\n",
            " Array y:\n",
            "Average 3.5\n",
            "Variance 2.9166666666666665\n",
            "Standard Deviation 1.707825127659933\n"
          ]
        }
      ]
    },
    {
      "cell_type": "code",
      "source": [
        "x_reshaped = x.reshape(2, 6)\n",
        "print(\"\\nReshaped x (2x6):\", x_reshaped)"
      ],
      "metadata": {
        "colab": {
          "base_uri": "https://localhost:8080/"
        },
        "id": "XTjPItqDGg16",
        "outputId": "5c7ed521-da3f-4351-8b06-ec8d89f62aea"
      },
      "execution_count": null,
      "outputs": [
        {
          "output_type": "stream",
          "name": "stdout",
          "text": [
            "\n",
            "Reshaped x (2x6): [[ 1  2  3  4  5  6]\n",
            " [ 7  8  9 10 11 12]]\n"
          ]
        }
      ]
    },
    {
      "cell_type": "code",
      "source": [
        "x_transpose=x.T\n",
        "print(\"\\nTransposed x:\")\n",
        "print(x_transpose)\n",
        "y_transpose =y.T\n",
        "print(\"\\nTransposed y:\")\n",
        "print(y_transpose)"
      ],
      "metadata": {
        "colab": {
          "base_uri": "https://localhost:8080/"
        },
        "id": "H3sjKqyGG-hd",
        "outputId": "7a17a5b8-b4ed-4b27-adc3-79a1d2dbf90d"
      },
      "execution_count": null,
      "outputs": [
        {
          "output_type": "stream",
          "name": "stdout",
          "text": [
            "\n",
            "Transposed x:\n",
            "[[ 1  5  9]\n",
            " [ 2  6 10]\n",
            " [ 3  7 11]\n",
            " [ 4  8 12]]\n",
            "\n",
            "Transposed y:\n",
            "[1 2 3 4 5 6]\n"
          ]
        }
      ]
    },
    {
      "cell_type": "code",
      "source": [
        "flatten_x = x.flatten()\n",
        "print(\"\\nFlattened x:\")\n",
        "print(flatten_x)"
      ],
      "metadata": {
        "colab": {
          "base_uri": "https://localhost:8080/"
        },
        "id": "J1gSNJIkHsoa",
        "outputId": "cd0a34fb-14f6-43af-a85b-e3b8fb6ed278"
      },
      "execution_count": null,
      "outputs": [
        {
          "output_type": "stream",
          "name": "stdout",
          "text": [
            "\n",
            "Flattened x:\n",
            "[ 1  2  3  4  5  6  7  8  9 10 11 12]\n"
          ]
        }
      ]
    },
    {
      "cell_type": "code",
      "source": [
        "P = np.array([[1, 3, 6],\n",
        "              [1, 4, 5],\n",
        "              [2, 2, 7]])\n",
        "print(P)"
      ],
      "metadata": {
        "colab": {
          "base_uri": "https://localhost:8080/"
        },
        "id": "64asH_TOIGBi",
        "outputId": "7776ffdc-5dc4-4e36-f558-179230e19d91"
      },
      "execution_count": null,
      "outputs": [
        {
          "output_type": "stream",
          "name": "stdout",
          "text": [
            "[[1 3 6]\n",
            " [1 4 5]\n",
            " [2 2 7]]\n"
          ]
        }
      ]
    },
    {
      "cell_type": "code",
      "source": [
        "rank_P = np.linalg.matrix_rank(P)\n",
        "print(\"Rank of P:\", rank_P)\n",
        "determinant_P = np.linalg.det(P)\n",
        "print(\"Determinant of P:\", determinant_P)\n",
        "diagonal_P = np.diag(P)\n",
        "print(\"Diagonal of P:\", diagonal_P)\n",
        "trace_P = np.trace(P)\n",
        "print(\"Trace of P:\", trace_P)"
      ],
      "metadata": {
        "colab": {
          "base_uri": "https://localhost:8080/"
        },
        "id": "77H72FIDIz2a",
        "outputId": "f13bdf8f-e151-4c33-fd87-d7b24d11ff45"
      },
      "execution_count": null,
      "outputs": [
        {
          "output_type": "stream",
          "name": "stdout",
          "text": [
            "Rank of P: 3\n",
            "Determinant of P: -8.999999999999998\n",
            "Diagonal of P: [1 4 7]\n",
            "Trace of P: 12\n"
          ]
        }
      ]
    },
    {
      "cell_type": "code",
      "source": [
        "eigen_values, eigen_vectors = np.linalg.eig(P)\n",
        "print(\"\\nEigenvalues:\")\n",
        "print(eigen_values)\n",
        "print(\"\\nEigenvectors:\")\n",
        "print(eigen_vectors)"
      ],
      "metadata": {
        "colab": {
          "base_uri": "https://localhost:8080/"
        },
        "id": "YRPw_LKHI77S",
        "outputId": "1759575a-708e-4c69-c66b-431254b8a0aa"
      },
      "execution_count": null,
      "outputs": [
        {
          "output_type": "stream",
          "name": "stdout",
          "text": [
            "\n",
            "Eigenvalues:\n",
            "[10.59900683 -0.45701438  1.85800755]\n",
            "\n",
            "Eigenvectors:\n",
            "[[-0.55902488 -0.95323847 -0.18562955]\n",
            " [-0.55289125 -0.10432388 -0.88924337]\n",
            " [-0.61790165  0.2836423   0.41807643]]\n"
          ]
        }
      ]
    },
    {
      "cell_type": "code",
      "source": [
        "z=np.array([2,3,6,2,5,2])\n",
        "print(z)\n",
        "print(np.dot(z,y))"
      ],
      "metadata": {
        "colab": {
          "base_uri": "https://localhost:8080/"
        },
        "id": "f755Nj0pKY86",
        "outputId": "57cfaae8-ea37-41cf-8e2d-656b5f9ebad6"
      },
      "execution_count": null,
      "outputs": [
        {
          "output_type": "stream",
          "name": "stdout",
          "text": [
            "[2 3 6 2 5 2]\n",
            "71\n"
          ]
        }
      ]
    },
    {
      "cell_type": "code",
      "source": [
        "q=np.array([[4,6,7],\n",
        "            [5,5,2],\n",
        "            [3,4,6]])\n",
        "print('P =',P)\n",
        "print('Q =',q)\n",
        "print(\"P+Q\",P+q)\n",
        "print(\"P-Q\",P-q)"
      ],
      "metadata": {
        "colab": {
          "base_uri": "https://localhost:8080/"
        },
        "id": "4SvZkf8WLr-J",
        "outputId": "1cb004e7-5638-4dc7-80db-63c6a4962758"
      },
      "execution_count": null,
      "outputs": [
        {
          "output_type": "stream",
          "name": "stdout",
          "text": [
            "P = [[1 3 6]\n",
            " [1 4 5]\n",
            " [2 2 7]]\n",
            "Q = [[4 6 7]\n",
            " [5 5 2]\n",
            " [3 4 6]]\n",
            "P+Q [[ 5  9 13]\n",
            " [ 6  9  7]\n",
            " [ 5  6 13]]\n",
            "P-Q [[-3 -3 -1]\n",
            " [-4 -1  3]\n",
            " [-1 -2  1]]\n"
          ]
        }
      ]
    },
    {
      "cell_type": "code",
      "source": [
        "print(\"Element-wise product of P and Q:\")\n",
        "P * q"
      ],
      "metadata": {
        "colab": {
          "base_uri": "https://localhost:8080/"
        },
        "id": "TAXw87mLMPGY",
        "outputId": "6c04d94b-e059-4a86-fc94-6ddc5eb25863"
      },
      "execution_count": null,
      "outputs": [
        {
          "output_type": "stream",
          "name": "stdout",
          "text": [
            "Element-wise product of P and Q:\n"
          ]
        },
        {
          "output_type": "execute_result",
          "data": {
            "text/plain": [
              "array([[ 4, 18, 42],\n",
              "       [ 5, 20, 10],\n",
              "       [ 6,  8, 42]])"
            ]
          },
          "metadata": {},
          "execution_count": 35
        }
      ]
    },
    {
      "cell_type": "code",
      "source": [
        "print(\"p inverse\")\n",
        "print(np.linalg.inv(P))\n",
        "print(\"Q inverse\")\n",
        "print(np.linalg.inv(q))"
      ],
      "metadata": {
        "colab": {
          "base_uri": "https://localhost:8080/"
        },
        "id": "DHmlcR7UPSDT",
        "outputId": "29869457-afd6-4abe-a26e-b7d3a582d44b"
      },
      "execution_count": null,
      "outputs": [
        {
          "output_type": "stream",
          "name": "stdout",
          "text": [
            "p inverse\n",
            "[[-2.          1.          1.        ]\n",
            " [-0.33333333  0.55555556 -0.11111111]\n",
            " [ 0.66666667 -0.44444444 -0.11111111]]\n",
            "Q inverse\n",
            "[[-1.04761905  0.38095238  1.0952381 ]\n",
            " [ 1.14285714 -0.14285714 -1.28571429]\n",
            " [-0.23809524 -0.0952381   0.47619048]]\n"
          ]
        }
      ]
    },
    {
      "cell_type": "code",
      "source": [
        "uniform_numbers = np.random.uniform(low=0, high=1, size=10)\n",
        "print(\"Uniform Distribution:\", uniform_numbers)\n",
        "\n",
        "gaussian_numbers = np.random.normal(loc=0, scale=1, size=10)\n",
        "print(\"Gaussian Distribution:\", gaussian_numbers)\n",
        "\n",
        "logistic_numbers = np.random.logistic(loc=0, scale=1, size=10)\n",
        "print(\"Logistic Distribution:\", logistic_numbers)"
      ],
      "metadata": {
        "colab": {
          "base_uri": "https://localhost:8080/"
        },
        "id": "dUD6M4yPPnGQ",
        "outputId": "c3da7ffd-d1df-4288-bd2c-b77e761961a5"
      },
      "execution_count": null,
      "outputs": [
        {
          "output_type": "stream",
          "name": "stdout",
          "text": [
            "Uniform Distribution: [0.05237529 0.004243   0.30550437 0.82746903 0.32999429 0.47724595\n",
            " 0.64488553 0.92460305 0.61634492 0.72443575]\n",
            "Gaussian Distribution: [-0.91403299  0.22790954 -1.6152679   0.85186585 -1.64601106  0.02081975\n",
            " -0.06232084  0.08896939 -0.54895666 -1.40465068]\n",
            "Logistic Distribution: [ 0.42710182  0.14579586 -0.9961165  -0.37717359  0.81575514  0.75803186\n",
            "  1.23037215 -0.54305466 -0.38377879  0.6593939 ]\n"
          ]
        }
      ]
    },
    {
      "cell_type": "code",
      "source": [
        "import pandas as pd\n",
        "df1 = pd.read_csv('Iris.csv')\n",
        "df2 = pd.read_csv('BostonHousingprice.csv')\n",
        "df3 = pd.read_csv('Handwrittendigit.csv')"
      ],
      "metadata": {
        "id": "I7cmwsKNFH_E"
      },
      "execution_count": null,
      "outputs": []
    },
    {
      "cell_type": "code",
      "source": [
        "print(df1.head())\n",
        "print(df2.head())\n",
        "print(df3.head())"
      ],
      "metadata": {
        "colab": {
          "base_uri": "https://localhost:8080/"
        },
        "id": "-3d_UE23GKt7",
        "outputId": "5ad0404d-1948-4526-abd3-7100f70b9a39"
      },
      "execution_count": null,
      "outputs": [
        {
          "output_type": "stream",
          "name": "stdout",
          "text": [
            "   sepal.length  sepal.width  petal.length  petal.width variety\n",
            "0           5.1          3.5           1.4          0.2  Setosa\n",
            "1           4.9          3.0           1.4          0.2  Setosa\n",
            "2           4.7          3.2           1.3          0.2  Setosa\n",
            "3           4.6          3.1           1.5          0.2  Setosa\n",
            "4           5.0          3.6           1.4          0.2  Setosa\n",
            "      crim    zn  indus  chas    nox     rm   age     dis  rad  tax  ptratio  \\\n",
            "0  0.00632  18.0   2.31     0  0.538  6.575  65.2  4.0900    1  296     15.3   \n",
            "1  0.02731   0.0   7.07     0  0.469  6.421  78.9  4.9671    2  242     17.8   \n",
            "2  0.02729   0.0   7.07     0  0.469  7.185  61.1  4.9671    2  242     17.8   \n",
            "3  0.03237   0.0   2.18     0  0.458  6.998  45.8  6.0622    3  222     18.7   \n",
            "4  0.06905   0.0   2.18     0  0.458  7.147  54.2  6.0622    3  222     18.7   \n",
            "\n",
            "        b  lstat  medv  \n",
            "0  396.90   4.98  24.0  \n",
            "1  396.90   9.14  21.6  \n",
            "2  392.83   4.03  34.7  \n",
            "3  394.63   2.94  33.4  \n",
            "4  396.90   5.33  36.2  \n",
            "   label  1x1  1x2  1x3  1x4  1x5  1x6  1x7  1x8  1x9  ...  28x19  28x20  \\\n",
            "0      5    0    0    0    0    0    0    0    0    0  ...    0.0    0.0   \n",
            "1      0    0    0    0    0    0    0    0    0    0  ...    0.0    0.0   \n",
            "2      4    0    0    0    0    0    0    0    0    0  ...    0.0    0.0   \n",
            "3      1    0    0    0    0    0    0    0    0    0  ...    0.0    0.0   \n",
            "4      9    0    0    0    0    0    0    0    0    0  ...    0.0    0.0   \n",
            "\n",
            "   28x21  28x22  28x23  28x24  28x25  28x26  28x27  28x28  \n",
            "0    0.0    0.0    0.0    0.0    0.0    0.0    0.0    0.0  \n",
            "1    0.0    0.0    0.0    0.0    0.0    0.0    0.0    0.0  \n",
            "2    0.0    0.0    0.0    0.0    0.0    0.0    0.0    0.0  \n",
            "3    0.0    0.0    0.0    0.0    0.0    0.0    0.0    0.0  \n",
            "4    0.0    0.0    0.0    0.0    0.0    0.0    0.0    0.0  \n",
            "\n",
            "[5 rows x 785 columns]\n"
          ]
        }
      ]
    },
    {
      "cell_type": "code",
      "source": [
        "print(df1.shape)\n",
        "print(df2.shape)\n",
        "print(df3.shape)"
      ],
      "metadata": {
        "colab": {
          "base_uri": "https://localhost:8080/"
        },
        "id": "CW7QFCsKGbER",
        "outputId": "b99b660f-0293-467f-a50b-1c855c920ef7"
      },
      "execution_count": null,
      "outputs": [
        {
          "output_type": "stream",
          "name": "stdout",
          "text": [
            "(150, 5)\n",
            "(506, 14)\n",
            "(39004, 785)\n"
          ]
        }
      ]
    },
    {
      "cell_type": "code",
      "source": [
        "print(df1.describe())\n",
        "print(df2.describe())\n",
        "print(df3.describe())"
      ],
      "metadata": {
        "colab": {
          "base_uri": "https://localhost:8080/"
        },
        "id": "nEar8h4BGt2h",
        "outputId": "765d0fd4-59e5-4473-f7a1-7011fce6414d"
      },
      "execution_count": null,
      "outputs": [
        {
          "output_type": "stream",
          "name": "stdout",
          "text": [
            "       sepal.length  sepal.width  petal.length  petal.width\n",
            "count    150.000000   150.000000    150.000000   150.000000\n",
            "mean       5.843333     3.057333      3.758000     1.199333\n",
            "std        0.828066     0.435866      1.765298     0.762238\n",
            "min        4.300000     2.000000      1.000000     0.100000\n",
            "25%        5.100000     2.800000      1.600000     0.300000\n",
            "50%        5.800000     3.000000      4.350000     1.300000\n",
            "75%        6.400000     3.300000      5.100000     1.800000\n",
            "max        7.900000     4.400000      6.900000     2.500000\n",
            "             crim          zn       indus        chas         nox          rm  \\\n",
            "count  506.000000  506.000000  506.000000  506.000000  506.000000  506.000000   \n",
            "mean     3.613524   11.363636   11.136779    0.069170    0.554695    6.284634   \n",
            "std      8.601545   23.322453    6.860353    0.253994    0.115878    0.702617   \n",
            "min      0.006320    0.000000    0.460000    0.000000    0.385000    3.561000   \n",
            "25%      0.082045    0.000000    5.190000    0.000000    0.449000    5.885500   \n",
            "50%      0.256510    0.000000    9.690000    0.000000    0.538000    6.208500   \n",
            "75%      3.677083   12.500000   18.100000    0.000000    0.624000    6.623500   \n",
            "max     88.976200  100.000000   27.740000    1.000000    0.871000    8.780000   \n",
            "\n",
            "              age         dis         rad         tax     ptratio           b  \\\n",
            "count  506.000000  506.000000  506.000000  506.000000  506.000000  506.000000   \n",
            "mean    68.574901    3.795043    9.549407  408.237154   18.455534  356.674032   \n",
            "std     28.148861    2.105710    8.707259  168.537116    2.164946   91.294864   \n",
            "min      2.900000    1.129600    1.000000  187.000000   12.600000    0.320000   \n",
            "25%     45.025000    2.100175    4.000000  279.000000   17.400000  375.377500   \n",
            "50%     77.500000    3.207450    5.000000  330.000000   19.050000  391.440000   \n",
            "75%     94.075000    5.188425   24.000000  666.000000   20.200000  396.225000   \n",
            "max    100.000000   12.126500   24.000000  711.000000   22.000000  396.900000   \n",
            "\n",
            "            lstat        medv  \n",
            "count  506.000000  506.000000  \n",
            "mean    12.653063   22.532806  \n",
            "std      7.141062    9.197104  \n",
            "min      1.730000    5.000000  \n",
            "25%      6.950000   17.025000  \n",
            "50%     11.360000   21.200000  \n",
            "75%     16.955000   25.000000  \n",
            "max     37.970000   50.000000  \n",
            "              label      1x1      1x2      1x3      1x4      1x5      1x6  \\\n",
            "count  39004.000000  39004.0  39004.0  39004.0  39004.0  39004.0  39004.0   \n",
            "mean       4.453287      0.0      0.0      0.0      0.0      0.0      0.0   \n",
            "std        2.890306      0.0      0.0      0.0      0.0      0.0      0.0   \n",
            "min        0.000000      0.0      0.0      0.0      0.0      0.0      0.0   \n",
            "25%        2.000000      0.0      0.0      0.0      0.0      0.0      0.0   \n",
            "50%        4.000000      0.0      0.0      0.0      0.0      0.0      0.0   \n",
            "75%        7.000000      0.0      0.0      0.0      0.0      0.0      0.0   \n",
            "max        9.000000      0.0      0.0      0.0      0.0      0.0      0.0   \n",
            "\n",
            "           1x7      1x8      1x9  ...         28x19         28x20  \\\n",
            "count  39004.0  39004.0  39004.0  ...  39003.000000  39003.000000   \n",
            "mean       0.0      0.0      0.0  ...      0.214291      0.114401   \n",
            "std        0.0      0.0      0.0  ...      6.342657      4.461866   \n",
            "min        0.0      0.0      0.0  ...      0.000000      0.000000   \n",
            "25%        0.0      0.0      0.0  ...      0.000000      0.000000   \n",
            "50%        0.0      0.0      0.0  ...      0.000000      0.000000   \n",
            "75%        0.0      0.0      0.0  ...      0.000000      0.000000   \n",
            "max        0.0      0.0      0.0  ...    254.000000    254.000000   \n",
            "\n",
            "              28x21         28x22         28x23         28x24    28x25  \\\n",
            "count  39003.000000  39003.000000  39003.000000  39003.000000  39003.0   \n",
            "mean       0.066995      0.029664      0.023255      0.003077      0.0   \n",
            "std        3.501368      2.092036      2.081538      0.429886      0.0   \n",
            "min        0.000000      0.000000      0.000000      0.000000      0.0   \n",
            "25%        0.000000      0.000000      0.000000      0.000000      0.0   \n",
            "50%        0.000000      0.000000      0.000000      0.000000      0.0   \n",
            "75%        0.000000      0.000000      0.000000      0.000000      0.0   \n",
            "max      253.000000    253.000000    254.000000     62.000000      0.0   \n",
            "\n",
            "         28x26    28x27    28x28  \n",
            "count  39003.0  39003.0  39003.0  \n",
            "mean       0.0      0.0      0.0  \n",
            "std        0.0      0.0      0.0  \n",
            "min        0.0      0.0      0.0  \n",
            "25%        0.0      0.0      0.0  \n",
            "50%        0.0      0.0      0.0  \n",
            "75%        0.0      0.0      0.0  \n",
            "max        0.0      0.0      0.0  \n",
            "\n",
            "[8 rows x 785 columns]\n"
          ]
        }
      ]
    },
    {
      "cell_type": "code",
      "source": [
        "# prompt: Generate a simulated dataset for regression application using NumPy, with the following\n",
        "# properties.\n",
        "# a. Number of samples = 100\n",
        "# b. Number of features = 4\n",
        "# c. Number of targets = 1\n",
        "# d. Zero noise\n",
        "\n",
        "import numpy as np\n",
        "\n",
        "# Set random seed for reproducibility\n",
        "np.random.seed(42)\n",
        "\n",
        "# Number of samples, features, and targets\n",
        "n_samples = 100\n",
        "n_features = 4\n",
        "n_targets = 1\n",
        "\n",
        "# Generate random features (X)\n",
        "X = np.random.rand(n_samples, n_features)\n",
        "# Generate target variable (y) as a linear combination of features with no noise\n",
        "true_coefficients = np.random.rand(n_features)\n",
        "y = np.dot(X, true_coefficients) #performs a dot product between the\n",
        "                                # feature matrix X and true_coefficients.\n",
        "\n",
        "# Print shapes for verification\n",
        "print(\"feature of X:\", X[:5])\n",
        "print(\"target of y:\", y[:5])"
      ],
      "metadata": {
        "colab": {
          "base_uri": "https://localhost:8080/"
        },
        "id": "XcgAZVaDWl8G",
        "outputId": "f7e80b7e-28c6-42fe-c558-3d1e269a3426"
      },
      "execution_count": null,
      "outputs": [
        {
          "output_type": "stream",
          "name": "stdout",
          "text": [
            "feature of X: [[0.37454012 0.95071431 0.73199394 0.59865848]\n",
            " [0.15601864 0.15599452 0.05808361 0.86617615]\n",
            " [0.60111501 0.70807258 0.02058449 0.96990985]\n",
            " [0.83244264 0.21233911 0.18182497 0.18340451]\n",
            " [0.30424224 0.52475643 0.43194502 0.29122914]]\n",
            "target of y: [1.76130144 0.90208718 1.51305187 0.52093551 0.96392482]\n"
          ]
        }
      ]
    },
    {
      "cell_type": "code",
      "source": [
        "# prompt: Generate a simulated dataset for Classification application with the following properties.  using sklearn\n",
        "# a. Number of samples = 100\n",
        "# b. Number of features = 4\n",
        "# c. Number of classes = 2\n",
        "# d. Zero noise\n",
        "\n",
        "import numpy as np\n",
        "from sklearn.datasets import make_classification\n",
        "\n",
        "# Generate a simulated dataset for classification\n",
        "X, y = make_classification(\n",
        "    n_samples=100,\n",
        "    n_features=4,\n",
        "    n_informative=4,\n",
        "    n_redundant=0,\n",
        "    n_classes=2,\n",
        "    n_clusters_per_class=1,\n",
        "    flip_y=0.0,\n",
        "    class_sep=1.0,\n",
        "    random_state=42  # Set random state for reproducibility\n",
        ")\n",
        "# Print the first few samples\n",
        "print(\"FEATURE X:\\n\", X[:5])\n",
        "print(\"LABEL of y:\\n\", y[:5])"
      ],
      "metadata": {
        "colab": {
          "base_uri": "https://localhost:8080/"
        },
        "id": "ggYNK0iMTbra",
        "outputId": "df574204-3cd0-4a42-dc7b-f2cd44ed098e"
      },
      "execution_count": null,
      "outputs": [
        {
          "output_type": "stream",
          "name": "stdout",
          "text": [
            "FEATURE X:\n",
            " [[-0.38504199  0.63366243  1.04962019  1.19606278]\n",
            " [-1.94421158 -2.99326909 -4.52479762 -0.95757598]\n",
            " [-1.18450511 -1.49369435 -2.18863413 -0.30839581]\n",
            " [ 1.2214474   2.67352631  1.08840826  0.24260342]\n",
            " [-2.69450216 -3.09813062 -2.7109857  -2.32296203]]\n",
            "LABEL of y:\n",
            " [1 1 0 1 0]\n"
          ]
        }
      ]
    },
    {
      "cell_type": "code",
      "source": [
        "series_a= pd.Series([7,11,13,17])\n",
        "print(series_a)\n",
        "\n",
        "series_b=pd.Series([100]*5)\n",
        "print(series_b)\n",
        "\n",
        "random_series = pd.Series(np.random.randint(0,20, size=20))\n",
        "print(random_series.describe())\n",
        "\n",
        "Temperatures=pd.Series([98.6,98.9,100.2,97.9],\n",
        "index=['Julie','Charlie','Sam','Andrea'])\n",
        "print(Temperatures)\n",
        "\n",
        "dict1={'Julie':98.6,'Charlie':98.9,'Sam':100.2,'Andrea':97.9}\n",
        "Series_e=pd.Series(dict1)\n",
        "print(Series_e)"
      ],
      "metadata": {
        "colab": {
          "base_uri": "https://localhost:8080/"
        },
        "id": "h4fIw_ZkoE8U",
        "outputId": "53607229-2372-42d8-8fd5-d9553893b8ad"
      },
      "execution_count": null,
      "outputs": [
        {
          "output_type": "stream",
          "name": "stdout",
          "text": [
            "0     7\n",
            "1    11\n",
            "2    13\n",
            "3    17\n",
            "dtype: int64\n",
            "0    100\n",
            "1    100\n",
            "2    100\n",
            "3    100\n",
            "4    100\n",
            "dtype: int64\n",
            "count    20.000000\n",
            "mean     11.450000\n",
            "std       5.744334\n",
            "min       2.000000\n",
            "25%       7.500000\n",
            "50%      11.500000\n",
            "75%      16.500000\n",
            "max      19.000000\n",
            "dtype: float64\n",
            "Julie       98.6\n",
            "Charlie     98.9\n",
            "Sam        100.2\n",
            "Andrea      97.9\n",
            "dtype: float64\n",
            "Julie       98.6\n",
            "Charlie     98.9\n",
            "Sam        100.2\n",
            "Andrea      97.9\n",
            "dtype: float64\n"
          ]
        }
      ]
    },
    {
      "cell_type": "code",
      "source": [
        "exam_data = {'name': ['Anastasia', 'Dima', 'Katherine', 'James',\n",
        "'Emily', 'Michael', 'Matthew', 'Laura', 'Kevin', 'Jonas'],\n",
        "'score': [12.5, 9, 16.5, np.nan, 9, 20, 14.5, np.nan, 8, 19],\n",
        "'attempts': [1, 3, 2, 3, 2, 3, 1, 1, 2, 1],\n",
        "'qualify': ['yes', 'no', 'yes', 'no', 'no', 'yes', 'yes', 'no', 'no', 'yes']}\n",
        "labels = ['a', 'b', 'c', 'd', 'e', 'f', 'g', 'h', 'i', 'j']\n",
        "\n",
        "df1= pd.DataFrame(exam_data,index=labels)\n",
        "print(df1)\n",
        "\n",
        "df1.loc[df1['name'] == 'James', 'name'] = 'Suresh'\n",
        "print(df1)\n",
        "\n",
        "color = ['Red', 'Blue', 'Orange', 'Red', 'White', 'Yellow', 'Purple', 'Green', 'Pink', 'Black']\n",
        "df1['color'] = color\n",
        "print(df1)\n",
        "\n",
        "headers=list(df1.columns)\n",
        "print(headers)"
      ],
      "metadata": {
        "colab": {
          "base_uri": "https://localhost:8080/"
        },
        "id": "WyguRhC32IGQ",
        "outputId": "848d3a31-f642-4d9c-9d40-19b59cd2ce0d"
      },
      "execution_count": null,
      "outputs": [
        {
          "output_type": "stream",
          "name": "stdout",
          "text": [
            "        name  score  attempts qualify\n",
            "a  Anastasia   12.5         1     yes\n",
            "b       Dima    9.0         3      no\n",
            "c  Katherine   16.5         2     yes\n",
            "d      James    NaN         3      no\n",
            "e      Emily    9.0         2      no\n",
            "f    Michael   20.0         3     yes\n",
            "g    Matthew   14.5         1     yes\n",
            "h      Laura    NaN         1      no\n",
            "i      Kevin    8.0         2      no\n",
            "j      Jonas   19.0         1     yes\n",
            "        name  score  attempts qualify\n",
            "a  Anastasia   12.5         1     yes\n",
            "b       Dima    9.0         3      no\n",
            "c  Katherine   16.5         2     yes\n",
            "d     Suresh    NaN         3      no\n",
            "e      Emily    9.0         2      no\n",
            "f    Michael   20.0         3     yes\n",
            "g    Matthew   14.5         1     yes\n",
            "h      Laura    NaN         1      no\n",
            "i      Kevin    8.0         2      no\n",
            "j      Jonas   19.0         1     yes\n",
            "        name  score  attempts qualify   color\n",
            "a  Anastasia   12.5         1     yes     Red\n",
            "b       Dima    9.0         3      no    Blue\n",
            "c  Katherine   16.5         2     yes  Orange\n",
            "d     Suresh    NaN         3      no     Red\n",
            "e      Emily    9.0         2      no   White\n",
            "f    Michael   20.0         3     yes  Yellow\n",
            "g    Matthew   14.5         1     yes  Purple\n",
            "h      Laura    NaN         1      no   Green\n",
            "i      Kevin    8.0         2      no    Pink\n",
            "j      Jonas   19.0         1     yes   Black\n",
            "['name', 'score', 'attempts', 'qualify', 'color']\n"
          ]
        }
      ]
    },
    {
      "cell_type": "code",
      "source": [
        "# prompt: An NGO has participated in a three-week cultural festival. Using Pandas, store the sales\n",
        "# (in Rs) made day wise for every week in a CSV file named “FestSales.csv”\n",
        "import pandas as pd\n",
        "data = {\n",
        "    'Week 1': [5000, 5900, 6500, 3500, 4000, 5300, 7900],\n",
        "    'Week 2': [4000, 3000, 5000, 5500, 3000, 4300, 5900],\n",
        "    'Week 3': [4000, 5800, 3500, 2500, 3000, 5300, 6000]\n",
        "}\n",
        "\n",
        "# Create a Pandas DataFrame from the data\n",
        "df = pd.DataFrame(data)\n",
        "\n",
        "import matplotlib.pyplot as plt\n",
        "\n",
        "# Read the CSV data\n",
        "df = pd.read_csv(\"FestSales.csv\")\n",
        "\n",
        "# Create a line plot directly from the DataFrame\n",
        "df.plot(title=\"Festival Sales Report\")\n",
        "\n",
        "# Customize the plot\n",
        "plt.xlabel(\"Days\")\n",
        "plt.ylabel(\"Sales in Rs\")\n",
        "plt.legend()\n",
        "plt.grid(True)\n",
        "plt.show()"
      ],
      "metadata": {
        "colab": {
          "base_uri": "https://localhost:8080/",
          "height": 472
        },
        "id": "tu0kSxUc8fDv",
        "outputId": "0ef8daff-e02e-407c-e54d-ef9d01e7be38"
      },
      "execution_count": null,
      "outputs": [
        {
          "output_type": "display_data",
          "data": {
            "text/plain": [
              "<Figure size 640x480 with 1 Axes>"
            ],
            "image/png": "[encoded data removed]"
          },
          "metadata": {}
        }
      ]
    },
    {
      "cell_type": "code",
      "source": [
        "df = pd.read_csv(\"FestSales.csv\")\n",
        "\n",
        "# Add a new column 'Day' at the beginning\n",
        "df.insert(0, 'Day', ['Monday', 'Tuesday', 'Wednesday', 'Thursday', 'Friday', 'Saturday', 'Sunday'])\n",
        "\n",
        "# Write the modified DataFrame back to the CSV file\n",
        "df.to_csv(\"FestSales_modified.csv\", index=False)\n",
        "print(df)\n",
        "# Create a bar plot\n",
        "df.plot(kind='bar')\n",
        "\n",
        "# Customize the plot\n",
        "plt.title(\"Festival Sales Report\")\n",
        "plt.ylabel(\"Sales in Rs\")\n",
        "plt.xlabel(\"Day\")\n",
        "\n",
        "plt.show()"
      ],
      "metadata": {
        "colab": {
          "base_uri": "https://localhost:8080/",
          "height": 615
        },
        "id": "ICMf5Cond4LL",
        "outputId": "0a4d9277-eb67-4712-b4e2-9f334131781e"
      },
      "execution_count": null,
      "outputs": [
        {
          "output_type": "stream",
          "name": "stdout",
          "text": [
            "         Day  Week 1  Week 2  Week 3\n",
            "0     Monday    5000    4000    4000\n",
            "1    Tuesday    5900    3000    5800\n",
            "2  Wednesday    6500    5000    3500\n",
            "3   Thursday    3500    5500    2500\n",
            "4     Friday    4000    3000    3000\n",
            "5   Saturday    5300    4300    5300\n",
            "6     Sunday    7900    5900    6000\n"
          ]
        },
        {
          "output_type": "display_data",
          "data": {
            "text/plain": [
              "<Figure size 640x480 with 1 Axes>"
            ],
            "image/png": "[encoded data removed]"
          },
          "metadata": {}
        }
      ]
    },
    {
      "cell_type": "code",
      "source": [
        "# prompt:  Download the data from the following link and keep in your working directory.\n",
        "# https://people.sc.fsu.edu/~jburkardt/data/csv/trees.csv) Display the number of rows and columns in the data) Display the number of rows and columns in the data\n",
        "\n",
        "!wget https://people.sc.fsu.edu/~jburkardt/data/csv/trees.csv\n",
        "import pandas as pd\n",
        "\n",
        "# Load the CSV file into a pandas DataFrame\n",
        "df_trees = pd.read_csv(\"trees.csv\")\n",
        "\n",
        "# Display the number of rows and columns\n",
        "num_rows, num_cols = df_trees.shape\n",
        "print(f\"Number of rows: {num_rows}\")\n",
        "print(f\"Number of columns: {num_cols}\")\n",
        "\n",
        "\n",
        "print(df_trees.describe())\n",
        "\n",
        "print(df_trees.describe().round(3))\n",
        "\n",
        "#Find the correlation between the attributes. Comment on the results\n",
        "print(df_trees.corr())\n",
        "\n",
        "\n",
        "\n",
        "#Since the data is spread over a wide range with different scales, it is not suitable\n",
        "#to train models. Hence, bring the data into the range of [0 - 1]\n",
        "scaler = MinMaxScaler()\n",
        "df_trees_normalized = pd.DataFrame(scaler.fit_transform(df_trees), columns=df_trees.columns)\n",
        "print(\"\\nNormalized data:\\n\", df_trees_normalized.head())\n"
      ],
      "metadata": {
        "id": "3C0_B2Uah6f3"
      },
      "execution_count": null,
      "outputs": []
    },
    {
      "cell_type": "code",
      "source": [
        "# prompt: The statsmodels package (installed in the code cell above) includes built-in datasets.\n",
        "# Execute the code below to download data from the American National Election Studies\n",
        "# of 1996 and print a detailed description of the schema.\n",
        "\n",
        "import statsmodels.api as sm\n",
        "anes96 = sm.datasets.anes96\n",
        "df= anes96.load_pandas().data\n",
        "print(df.describe)\n",
        "\n",
        "#a\n",
        "print(df.head())\n",
        "#B\n",
        "print(df.shape[0])\n",
        "print(df.shape[1])\n",
        "\n",
        "print(f\"The age of the youngest person is:\",df['age'].min())\n",
        "print(f\"The age of the oldest person is:\",df['age'].max())\n",
        "print(f\"Average TV news watching per week: {df['TVnews'].mean():.1f}\")\n",
        "\n",
        "print(\"\\nMissing Values:\")\n",
        "print(df.isnull().sum())\n",
        "#C\n",
        "df.rename(columns={'educ':'education'},inplace=True)\n",
        "\n",
        "def categorize_party(Pid):\n",
        " if pid in['strong Democrat','Weak Democrat']:\n",
        "    return 'Democrat'\n",
        " elif pid in['Strong Republic','Weak Republic']:\n",
        "    return 'Republican'\n",
        " else:\n",
        "    return 'Independent'\n",
        " df['party'] = df['Pid'].apply(categorize_party)\n",
        "\n",
        "def age_category(age):\n",
        "    if 18 <= age <= 24:\n",
        "        return '18-24'\n",
        "    elif 24 <= age <= 34:\n",
        "        return '25-34'\n",
        "    elif 34 <= age <= 44:\n",
        "        return '35-44'\n",
        "    elif 44 <= age <= 54:\n",
        "        return '45-54'\n",
        "    elif 54 <= age <= 64:\n",
        "        return '55-64'\n",
        "    else:\n",
        "        return '65 and over'\n",
        "df['age_category'] = df['age'].apply(age_category)\n",
        "print(df.head())"
      ],
      "metadata": {
        "colab": {
          "base_uri": "https://localhost:8080/"
        },
        "id": "oR1NzHXLr8hf",
        "outputId": "478e9b69-6192-4cda-9434-1e9f793ff7a9"
      },
      "execution_count": null,
      "outputs": [
        {
          "output_type": "stream",
          "name": "stdout",
          "text": [
            "<bound method NDFrame.describe of      popul  TVnews  selfLR  ClinLR  DoleLR  PID   age  educ  income  vote  \\\n",
            "0      0.0     7.0     7.0     1.0     6.0  6.0  36.0   3.0     1.0   1.0   \n",
            "1    190.0     1.0     3.0     3.0     5.0  1.0  20.0   4.0     1.0   0.0   \n",
            "2     31.0     7.0     2.0     2.0     6.0  1.0  24.0   6.0     1.0   0.0   \n",
            "3     83.0     4.0     3.0     4.0     5.0  1.0  28.0   6.0     1.0   0.0   \n",
            "4    640.0     7.0     5.0     6.0     4.0  0.0  68.0   6.0     1.0   0.0   \n",
            "..     ...     ...     ...     ...     ...  ...   ...   ...     ...   ...   \n",
            "939    0.0     7.0     7.0     1.0     6.0  4.0  73.0   6.0    24.0   1.0   \n",
            "940    0.0     7.0     5.0     2.0     6.0  6.0  50.0   6.0    24.0   1.0   \n",
            "941    0.0     3.0     6.0     2.0     7.0  5.0  43.0   6.0    24.0   1.0   \n",
            "942    0.0     6.0     6.0     2.0     5.0  6.0  46.0   7.0    24.0   1.0   \n",
            "943   18.0     7.0     4.0     2.0     6.0  3.0  61.0   7.0    24.0   1.0   \n",
            "\n",
            "     logpopul  \n",
            "0   -2.302585  \n",
            "1    5.247550  \n",
            "2    3.437208  \n",
            "3    4.420045  \n",
            "4    6.461624  \n",
            "..        ...  \n",
            "939 -2.302585  \n",
            "940 -2.302585  \n",
            "941 -2.302585  \n",
            "942 -2.302585  \n",
            "943  2.895912  \n",
            "\n",
            "[944 rows x 11 columns]>\n",
            "   popul  TVnews  selfLR  ClinLR  DoleLR  PID   age  educ  income  vote  \\\n",
            "0    0.0     7.0     7.0     1.0     6.0  6.0  36.0   3.0     1.0   1.0   \n",
            "1  190.0     1.0     3.0     3.0     5.0  1.0  20.0   4.0     1.0   0.0   \n",
            "2   31.0     7.0     2.0     2.0     6.0  1.0  24.0   6.0     1.0   0.0   \n",
            "3   83.0     4.0     3.0     4.0     5.0  1.0  28.0   6.0     1.0   0.0   \n",
            "4  640.0     7.0     5.0     6.0     4.0  0.0  68.0   6.0     1.0   0.0   \n",
            "\n",
            "   logpopul  \n",
            "0 -2.302585  \n",
            "1  5.247550  \n",
            "2  3.437208  \n",
            "3  4.420045  \n",
            "4  6.461624  \n",
            "944\n",
            "11\n",
            "The age of the youngest person is: 19.0\n",
            "The age of the oldest person is: 91.0\n",
            "Average TV news watching per week: 3.7\n",
            "\n",
            "Missing Values:\n",
            "popul       0\n",
            "TVnews      0\n",
            "selfLR      0\n",
            "ClinLR      0\n",
            "DoleLR      0\n",
            "PID         0\n",
            "age         0\n",
            "educ        0\n",
            "income      0\n",
            "vote        0\n",
            "logpopul    0\n",
            "dtype: int64\n",
            "   popul  TVnews  selfLR  ClinLR  DoleLR  PID   age  education  income  vote  \\\n",
            "0    0.0     7.0     7.0     1.0     6.0  6.0  36.0        3.0     1.0   1.0   \n",
            "1  190.0     1.0     3.0     3.0     5.0  1.0  20.0        4.0     1.0   0.0   \n",
            "2   31.0     7.0     2.0     2.0     6.0  1.0  24.0        6.0     1.0   0.0   \n",
            "3   83.0     4.0     3.0     4.0     5.0  1.0  28.0        6.0     1.0   0.0   \n",
            "4  640.0     7.0     5.0     6.0     4.0  0.0  68.0        6.0     1.0   0.0   \n",
            "\n",
            "   logpopul age_category  \n",
            "0 -2.302585        35-44  \n",
            "1  5.247550        18-24  \n",
            "2  3.437208        18-24  \n",
            "3  4.420045        25-34  \n",
            "4  6.461624  65 and over  \n"
          ]
        }
      ]
    },
    {
      "cell_type": "code",
      "source": [],
      "metadata": {
        "id": "mkYfOHR5um3A"
      },
      "execution_count": null,
      "outputs": []
    }
  ]
}